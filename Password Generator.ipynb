{
 "cells": [
  {
   "cell_type": "markdown",
   "id": "d2c7fde9",
   "metadata": {},
   "source": [
    "## PASSWORD GENERATOR"
   ]
  },
  {
   "cell_type": "code",
   "execution_count": null,
   "id": "8c6000f0",
   "metadata": {},
   "outputs": [],
   "source": [
    "#importing the random & string module\n",
    "import random\n",
    "import string\n",
    "\n",
    "#input questions for the user\n",
    "inputLetters= int(input(\"How many Letters would you prefer in your password? : \"))\n",
    "inputNum = int(input(\"How many Numbers would you prefer in your password? : \"))\n",
    "inputChar = int(input(\"How many Special Characters would you prefer in your password? : \"))\n",
    "\n",
    "\n",
    "#declaring variables to letters, numbers and special characters \n",
    "letters = string.ascii_letters\n",
    "numbers = string.digits\n",
    "special = string.punctuation"
   ]
  },
  {
   "cell_type": "code",
   "execution_count": null,
   "id": "2ff30a6a",
   "metadata": {},
   "outputs": [],
   "source": [
    "#generating the password\n",
    "\n",
    "password = []\n",
    "\n",
    "for i in range(inputLetters):\n",
    "    password.append(random.choice(letters))\n",
    "for i in range(inputNum):\n",
    "    password.append(random.choice(numbers))\n",
    "for i in range(inputChar):\n",
    "    password.append(random.choice(special))\n",
    "\n",
    "random.shuffle(password)\n",
    "\n",
    "password_str = ''.join(password)\n",
    "\n",
    "print(\"Your Password is:\" + password_str)\n",
    "\n",
    "#You can execute this code multiple times to get a random password for the same input!"
   ]
  }
 ],
 "metadata": {
  "kernelspec": {
   "display_name": "Python 3 (ipykernel)",
   "language": "python",
   "name": "python3"
  },
  "language_info": {
   "codemirror_mode": {
    "name": "ipython",
    "version": 3
   },
   "file_extension": ".py",
   "mimetype": "text/x-python",
   "name": "python",
   "nbconvert_exporter": "python",
   "pygments_lexer": "ipython3",
   "version": "3.9.13"
  }
 },
 "nbformat": 4,
 "nbformat_minor": 5
}
