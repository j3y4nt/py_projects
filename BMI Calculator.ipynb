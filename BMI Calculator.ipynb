{
 "cells": [
  {
   "cell_type": "code",
   "execution_count": null,
   "id": "500f0bef",
   "metadata": {},
   "outputs": [],
   "source": [
    "name = input(\"Please enter you name: \")\n",
    "height = int(input(\"Hey \" + name + \", Enter your height (in cm): \"))\n",
    "weight = int(input(\"Enter your weight (in kg): \"))\n",
    "\n",
    "bmi = round(weight/((height/100)**2),2)\n",
    "\n",
    "if bmi < 18.5:\n",
    "    classification = 'Under weight'\n",
    "    healthRisk = 'Minimal'\n",
    "elif 18.5 <= bmi <= 24.9:\n",
    "    classification = 'Normal'\n",
    "    healthRisk = 'Minimal'\n",
    "elif 25 <= bmi <= 29.9:\n",
    "    classification = 'Overweight'\n",
    "    healthRisk = 'Increased'\n",
    "elif 30 <= bmi <= 34.9:\n",
    "    classification = 'Obese'\n",
    "    healthRisk = 'High'\n",
    "elif 35 <= bmi <= 39.9:\n",
    "    classification = 'Severely Obese'\n",
    "    healthRisk = 'Very High'\n",
    "else:\n",
    "    classification = 'Morbidly Obese'\n",
    "    healthRisk = 'Extremely High'\n",
    "    \n",
    "print(\"\\nHealth Summary:\")\n",
    "\n",
    "print(name + \", your BMI is \" + str(bmi) + \" and you are \" + classification + \". \\nThe chances of you getting health problems are \" + healthRisk + \".\") "
   ]
  },
  {
   "cell_type": "code",
   "execution_count": null,
   "id": "b41c1854",
   "metadata": {},
   "outputs": [],
   "source": []
  }
 ],
 "metadata": {
  "kernelspec": {
   "display_name": "Python 3 (ipykernel)",
   "language": "python",
   "name": "python3"
  },
  "language_info": {
   "codemirror_mode": {
    "name": "ipython",
    "version": 3
   },
   "file_extension": ".py",
   "mimetype": "text/x-python",
   "name": "python",
   "nbconvert_exporter": "python",
   "pygments_lexer": "ipython3",
   "version": "3.9.13"
  }
 },
 "nbformat": 4,
 "nbformat_minor": 5
}
