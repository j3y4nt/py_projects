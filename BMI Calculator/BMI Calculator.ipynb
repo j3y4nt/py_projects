name = input("Please enter you name: ")
height = int(input("Hey " + name + ", Enter your height (in cm): "))
weight = int(input("Enter your weight (in kg): "))

bmi = round(weight/((height/100)**2),2)

if bmi < 18.5:
    classification = 'Under weight'
    healthRisk = 'Minimal'
elif 18.5 <= bmi <= 24.9:
    classification = 'Normal'
    healthRisk = 'Minimal'
elif 25 <= bmi <= 29.9:
    classification = 'Overweight'
    healthRisk = 'Increased'
elif 30 <= bmi <= 34.9:
    classification = 'Obese'
    healthRisk = 'High'
elif 35 <= bmi <= 39.9:
    classification = 'Severely Obese'
    healthRisk = 'Very High'
else:
    classification = 'Morbidly Obese'
    healthRisk = 'Extremely High'
    
print("\nHealth Summary:")

print(name + ", your BMI is " + str(bmi) + " and you are " + classification + ". \nThe chances of you getting health problems are " + healthRisk + ".") 
